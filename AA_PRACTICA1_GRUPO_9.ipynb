{
  "nbformat": 4,
  "nbformat_minor": 0,
  "metadata": {
    "colab": {
      "name": "AA_PRACTICA1_GRUPO_9.ipynb",
      "provenance": [],
      "collapsed_sections": [],
      "authorship_tag": "ABX9TyOQXx+wJDsRVzN3buedxfhY",
      "include_colab_link": true
    },
    "kernelspec": {
      "name": "python3",
      "display_name": "Python 3"
    },
    "language_info": {
      "name": "python"
    }
  },
  "cells": [
    {
      "cell_type": "markdown",
      "metadata": {
        "id": "view-in-github",
        "colab_type": "text"
      },
      "source": [
        "<a href=\"https://colab.research.google.com/github/carmenfontenla/AA_PRACTICA1_GRUPO_N-GRUPO/blob/main/AA_PRACTICA1_GRUPO_9.ipynb\" target=\"_parent\"><img src=\"https://colab.research.google.com/assets/colab-badge.svg\" alt=\"Open In Colab\"/></a>"
      ]
    },
    {
      "cell_type": "markdown",
      "metadata": {
        "id": "RAejtgH3NbmZ"
      },
      "source": [
        "GRUPO 9\n",
        "Carmen Fontenla Cambón\n",
        "Alegría Gimeno Arnau"
      ]
    },
    {
      "cell_type": "markdown",
      "metadata": {
        "id": "B1dFq8vNWVHt"
      },
      "source": [
        "INTRODUCCIÓN\n",
        "Hemos de crear un modelo de red de neuronas artificiales que sea capaz de reconocer y clasificar imágenes de ropa de diversos tipos. El modelo creado será definido, configurado, entrenado, evaluado y por último mejorado, para finalmente usarlo para hacer predicciones.\n",
        "Para ello creamos un modelo en keras siguiendo todos los pasos del conjunto de datos Fashion_MNIST. \n",
        "Fashion_MNIST es un conjunto de datos que contiene las imagenes de los artículos de Zalando. El conjunto de datos contiene 70K imágenes en escala de grises en 10 categorías. Estas imágenes se muestran en baja resolución 28 x 28 píxeles. Las 70K imágenes que tenemos, 60K son utilizadas para entrenar a la red, y 10K para evaluar posteriormente la precisión con la que la red ha aprendido a clasificar las imágenes."
      ]
    },
    {
      "cell_type": "markdown",
      "metadata": {
        "id": "ii5zee8vZB-M"
      },
      "source": [
        "Empezamos importando la librería Keras y comprobamos que la versión es superior a 2.0.0"
      ]
    },
    {
      "cell_type": "code",
      "metadata": {
        "id": "y-gCsWEpQY4j"
      },
      "source": [
        "import keras\n",
        "keras.__version__"
      ],
      "execution_count": null,
      "outputs": []
    },
    {
      "cell_type": "markdown",
      "metadata": {
        "id": "RSnA5cTjaCDM"
      },
      "source": [
        "Cargamos el conjunto de datos MNIST en Keras"
      ]
    },
    {
      "cell_type": "code",
      "metadata": {
        "id": "G0xxcijVRR0q"
      },
      "source": [
        "fashion_mnist = tf.keras.datasets.fashion_mnist\n",
        "(train_images, train_labels), (test_images, test_labels) = fashion_mnist.load_data()"
      ],
      "execution_count": null,
      "outputs": []
    },
    {
      "cell_type": "markdown",
      "metadata": {
        "id": "q9mNMsIVaRiS"
      },
      "source": [
        "Con este código mostramos la matriz de la imagen 0 (un zapato)"
      ]
    },
    {
      "cell_type": "code",
      "metadata": {
        "id": "84_tdbXtRdSf"
      },
      "source": [
        "print(train_images.shape)\n",
        "print(train_images[3])\n",
        "print(train_labels[3])"
      ],
      "execution_count": null,
      "outputs": []
    },
    {
      "cell_type": "code",
      "metadata": {
        "id": "1VOjPTVHF7Tk"
      },
      "source": [
        "imagen = train_images[3]\n",
        "plt.imshow(imagen, cmap=plt.cm.binary)\n",
        "plt.show()"
      ],
      "execution_count": null,
      "outputs": []
    },
    {
      "cell_type": "markdown",
      "metadata": {
        "id": "khTIqEsebai3"
      },
      "source": [
        "Echamos un vistazo a los datos de entrenamiento y a los datos de prueba"
      ]
    },
    {
      "cell_type": "code",
      "metadata": {
        "colab": {
          "base_uri": "https://localhost:8080/"
        },
        "id": "AH1AlbPaS-hK",
        "outputId": "77d0e357-86d9-4f70-8ae1-e87e54799344"
      },
      "source": [
        "len (train_labels)\n",
        "\n",
        "print(len(train_labels))\n",
        "print(train_labels)\n",
        "\n",
        "print(test_images.shape)\n",
        "print(len(test_labels))"
      ],
      "execution_count": null,
      "outputs": [
        {
          "output_type": "stream",
          "name": "stdout",
          "text": [
            "60000\n",
            "[9 0 0 ... 3 0 5]\n",
            "(10000, 28, 28)\n",
            "10000\n"
          ]
        }
      ]
    },
    {
      "cell_type": "markdown",
      "metadata": {
        "id": "ItkfYv528L7g"
      },
      "source": [
        "CASO 1"
      ]
    },
    {
      "cell_type": "markdown",
      "metadata": {
        "id": "hOnh9JIu87JG"
      },
      "source": [
        "Creamos dos capas \"Dense\" (Neurona 1 y Neurona 2), capas neuronales densamente conectadas. La capa de salida \"Softmax\" devolverá una matriz de 10 puntuaciones de probabilidad, esta puntuación será la probabilidad de que la imagen del dígito actual pertenezca a una de nuestras clases de 10 dígitos."
      ]
    },
    {
      "cell_type": "code",
      "metadata": {
        "id": "TwVWBXEUTIFO"
      },
      "source": [
        "from keras import models\n",
        "from keras import layers\n",
        "\n",
        "network = models.Sequential(name = 'Zalando')\n",
        "\n",
        "network.add(layers.Dense(10, activation = 'relu', input_shape = (28*28,), name = 'Neurona1'))\n",
        "network.add(layers.Dense(10, activation = 'softmax', name = 'Neurona2'),)\n",
        "\n",
        "\n",
        "network.summary()"
      ],
      "execution_count": null,
      "outputs": []
    },
    {
      "cell_type": "markdown",
      "metadata": {
        "id": "Gkg2xf3d95AW"
      },
      "source": [
        "Como podemos ver tenemos dos capas neuronales, y cada neurona de la primera capa está conectada a una de la segunda, saliendo 10 respuestas que equivalen a cada tipo de prenda."
      ]
    },
    {
      "cell_type": "code",
      "metadata": {
        "id": "D-zKIbP08Ii-"
      },
      "source": [
        "network.compile(optimizer = 'sgd',\n",
        "                loss = 'binary_crossentropy',\n",
        "                metrics = ['accuracy'])"
      ],
      "execution_count": null,
      "outputs": []
    },
    {
      "cell_type": "markdown",
      "metadata": {
        "id": "Q3jSnh_eFHZ6"
      },
      "source": [
        "Entrenamos el sistema"
      ]
    },
    {
      "cell_type": "code",
      "metadata": {
        "id": "iIHdp9QA_Y3U"
      },
      "source": [
        "network.fit(train_images, train_labels, epochs = 5, batch_size = 128)"
      ],
      "execution_count": null,
      "outputs": []
    },
    {
      "cell_type": "code",
      "metadata": {
        "id": "qnaED5p-_hn7"
      },
      "source": [
        "test_loss, test_acc = network.evaluate(test_images, test_labels)"
      ],
      "execution_count": null,
      "outputs": []
    },
    {
      "cell_type": "code",
      "metadata": {
        "colab": {
          "base_uri": "https://localhost:8080/"
        },
        "id": "WGLX3b0H_nPL",
        "outputId": "e2ee496a-8594-4fd7-f8b2-afdf65e56107"
      },
      "source": [
        "print('Nivel de exactitud:', test_acc)"
      ],
      "execution_count": null,
      "outputs": [
        {
          "output_type": "stream",
          "name": "stdout",
          "text": [
            "Nivel de exactitud: 0.2935999929904938\n"
          ]
        }
      ]
    },
    {
      "cell_type": "markdown",
      "metadata": {
        "id": "XMgDxxAnFOP7"
      },
      "source": [
        "Tenemos una precisión del 29,36%"
      ]
    },
    {
      "cell_type": "markdown",
      "metadata": {
        "id": "rwiQ_xDuGrSQ"
      },
      "source": [
        "Matriz de confusión"
      ]
    },
    {
      "cell_type": "code",
      "metadata": {
        "id": "dFcOq0PzGt79"
      },
      "source": [
        "def plot_confusion_matrix(cm, classes,\n",
        "                          normalize=False,\n",
        "                          title='Confusion matrix',\n",
        "                          cmap=plt.cm.Blues):\n",
        "    \"\"\"\n",
        "    This function prints and plots the confusion matrix.\n",
        "    Normalization can be applied by setting `normalize=True`.\n",
        "    \"\"\"\n",
        "    plt.imshow(cm, interpolation='nearest', cmap=cmap)\n",
        "    plt.title(title)\n",
        "    plt.colorbar()\n",
        "    tick_marks = np.arange(len(classes))\n",
        "    plt.xticks(tick_marks, classes, rotation=45)\n",
        "    plt.yticks(tick_marks, classes)\n",
        "\n",
        "    if normalize:\n",
        "        cm = cm.astype('float') / cm.sum(axis=1)[:, np.newaxis]\n",
        "\n",
        "    thresh = cm.max() / 2.\n",
        "    for i, j in itertools.product(range(cm.shape[0]), range(cm.shape[1])):\n",
        "        plt.text(j, i, cm[i, j],\n",
        "                 horizontalalignment=\"center\",\n",
        "                 color=\"white\" if cm[i, j] > thresh else \"black\")\n",
        "\n",
        "    plt.tight_layout()\n",
        "    plt.ylabel('Observación')\n",
        "    plt.xlabel('Predicción')\n",
        "\n",
        "\n",
        "# Predict the values from the validation dataset\n",
        "Y_pred = network.predict(test_images)\n",
        "# Convert predictions classes to one hot vectors \n",
        "Y_pred_classes = np.argmax(Y_pred, axis = 1) \n",
        "# Convert validation observations to one hot vectors\n",
        "Y_true = np.argmax(test_labelsp, axis = 1) \n",
        "# compute the confusion matrix\n",
        "confusion_mtx = confusion_matrix(Y_true, Y_pred_classes) \n",
        "# plot the confusion matrix\n",
        "plot_confusion_matrix(confusion_mtx, classes = range(10))"
      ],
      "execution_count": null,
      "outputs": []
    },
    {
      "cell_type": "markdown",
      "metadata": {
        "id": "4X_WcTVX8OV7"
      },
      "source": [
        "CASO 2"
      ]
    },
    {
      "cell_type": "markdown",
      "metadata": {
        "id": "zNEiB-DeJxmI"
      },
      "source": [
        "Creamos dos capas \"Dense\" (Neurona 1 y Neurona 2), capas neuronales densamente conectadas. La capa de salida \"Softmax\" devolverá una matriz de 10 puntuaciones de probabilidad, esta puntuación será la probabilidad de que la imagen del dígito actual pertenezca a una de nuestras clases de 10 dígitos."
      ]
    },
    {
      "cell_type": "code",
      "metadata": {
        "id": "hPRT86_A62Ko"
      },
      "source": [
        "network.add(layers.Dense(10, activation = 'relu',input_shape = (28*28,)))\n",
        "network.add(layers.Dense(10, activation = 'softmax'))\n",
        "network.summary()"
      ],
      "execution_count": null,
      "outputs": []
    },
    {
      "cell_type": "markdown",
      "metadata": {
        "id": "EgRcMuTgJnH8"
      },
      "source": [
        "Como podemos ver tenemos dos capas neuronales, y cada neurona de la primera capa está conectada a una de la segunda, saliendo 10 respuestas que equivalen a cada tipo de prenda."
      ]
    },
    {
      "cell_type": "code",
      "metadata": {
        "id": "fIAMXipK8UlS"
      },
      "source": [
        "network.compile(optimizer = 'rmsprop',\n",
        "                loss = 'binary_crossentropy',\n",
        "                metrics = ['accuracy'])"
      ],
      "execution_count": null,
      "outputs": []
    },
    {
      "cell_type": "markdown",
      "metadata": {
        "id": "Mr7glweNJ4VJ"
      },
      "source": [
        "Entrenamos el sistema"
      ]
    },
    {
      "cell_type": "code",
      "metadata": {
        "id": "ch25iTk8BKK-"
      },
      "source": [
        "network.fit(train_images, train_labels, epochs = 5, batch_size = 128)"
      ],
      "execution_count": null,
      "outputs": []
    },
    {
      "cell_type": "code",
      "metadata": {
        "id": "igH0lCGXBVCD"
      },
      "source": [
        "test_loss, test_acc = network.evaluate(test_images, test_labels)"
      ],
      "execution_count": null,
      "outputs": []
    },
    {
      "cell_type": "code",
      "metadata": {
        "colab": {
          "base_uri": "https://localhost:8080/"
        },
        "id": "-r-Z_AtgBVv7",
        "outputId": "ff1ecc29-4f93-4c13-9602-d5710b38676b"
      },
      "source": [
        "print('Nivel de exactitud:', test_acc)"
      ],
      "execution_count": null,
      "outputs": [
        {
          "output_type": "stream",
          "name": "stdout",
          "text": [
            "Nivel de exactitud: 0.2935999929904938\n"
          ]
        }
      ]
    },
    {
      "cell_type": "markdown",
      "metadata": {
        "id": "gk6Om8TWJ_Xh"
      },
      "source": [
        "Tenemos una precisión del 29,35%"
      ]
    },
    {
      "cell_type": "markdown",
      "metadata": {
        "id": "Z5kLuyP7KC1W"
      },
      "source": [
        "MATRIZ DE CONFUSIÓN"
      ]
    },
    {
      "cell_type": "code",
      "metadata": {
        "id": "PFUEy-iUI-Yq"
      },
      "source": [
        "def plot_confusion_matrix(cm, classes,\n",
        "                          normalize=False,\n",
        "                          title='Confusion matrix',\n",
        "                          cmap=plt.cm.Blues):\n",
        "    \"\"\"\n",
        "    This function prints and plots the confusion matrix.\n",
        "    Normalization can be applied by setting `normalize=True`.\n",
        "    \"\"\"\n",
        "    plt.imshow(cm, interpolation='nearest', cmap=cmap)\n",
        "    plt.title(title)\n",
        "    plt.colorbar()\n",
        "    tick_marks = np.arange(len(classes))\n",
        "    plt.xticks(tick_marks, classes, rotation=45)\n",
        "    plt.yticks(tick_marks, classes)\n",
        "\n",
        "    if normalize:\n",
        "        cm = cm.astype('float') / cm.sum(axis=1)[:, np.newaxis]\n",
        "\n",
        "    thresh = cm.max() / 2.\n",
        "    for i, j in itertools.product(range(cm.shape[0]), range(cm.shape[1])):\n",
        "        plt.text(j, i, cm[i, j],\n",
        "                 horizontalalignment=\"center\",\n",
        "                 color=\"white\" if cm[i, j] > thresh else \"black\")\n",
        "\n",
        "    plt.tight_layout()\n",
        "    plt.ylabel('Observación')\n",
        "    plt.xlabel('Predicción')\n",
        "\n",
        "\n",
        "# Predict the values from the validation dataset\n",
        "Y_pred = network.predict(test_images)\n",
        "# Convert predictions classes to one hot vectors \n",
        "Y_pred_classes = np.argmax(Y_pred, axis = 1) \n",
        "# Convert validation observations to one hot vectors\n",
        "Y_true = np.argmax(test_labelsp, axis = 1) \n",
        "# compute the confusion matrix\n",
        "confusion_mtx = confusion_matrix(Y_true, Y_pred_classes) \n",
        "# plot the confusion matrix\n",
        "plot_confusion_matrix(confusion_mtx, classes = range(10))"
      ],
      "execution_count": null,
      "outputs": []
    },
    {
      "cell_type": "markdown",
      "metadata": {
        "id": "MbiwHWjpK5Rw"
      },
      "source": [
        "CASO 3"
      ]
    },
    {
      "cell_type": "markdown",
      "metadata": {
        "id": "Jvn2qN2OK6R6"
      },
      "source": [
        "Creamos dos capas \"Dense\" (Neurona 1 y Neurona 2), capas neuronales densamente conectadas. La capa de salida \"Softmax\" devolverá una matriz de 10 puntuaciones de probabilidad, esta puntuación será la probabilidad de que la imagen del dígito actual pertenezca a una de nuestras clases de 10 dígitos."
      ]
    },
    {
      "cell_type": "code",
      "metadata": {
        "id": "tLmR50eZ7VCR"
      },
      "source": [
        "network.add(layers.Dense(10, activation = 'sigmoid',input_shape = (28*28,)))\n",
        "network.add(layers.Dense(10, activation = 'softmax'))\n",
        "network.summary()"
      ],
      "execution_count": null,
      "outputs": []
    },
    {
      "cell_type": "code",
      "metadata": {
        "id": "lVn6m-qg8ZVS"
      },
      "source": [
        "network.compile(optimizer = 'sgd',\n",
        "                loss = 'binary_crossentropy',\n",
        "                metrics = ['accuracy'])"
      ],
      "execution_count": null,
      "outputs": []
    },
    {
      "cell_type": "code",
      "metadata": {
        "id": "cLsUiZg1BLuI"
      },
      "source": [
        "network.fit(train_images, train_labels, epochs = 5, batch_size = 128)"
      ],
      "execution_count": null,
      "outputs": []
    },
    {
      "cell_type": "code",
      "metadata": {
        "id": "sEKmsIcLBWuU"
      },
      "source": [
        "test_loss, test_acc = network.evaluate(test_images, test_labels)"
      ],
      "execution_count": null,
      "outputs": []
    },
    {
      "cell_type": "code",
      "metadata": {
        "id": "oll_HhRzBXa9"
      },
      "source": [
        "print('Nivel de exactitud:', test_acc)"
      ],
      "execution_count": null,
      "outputs": []
    },
    {
      "cell_type": "markdown",
      "metadata": {
        "id": "4mhq4XLQL190"
      },
      "source": [
        "El nivel de precisión es del 29,35%"
      ]
    },
    {
      "cell_type": "markdown",
      "metadata": {
        "id": "buGPwTY3L2pC"
      },
      "source": [
        "MATRIZ DE CONFUSIÓN"
      ]
    },
    {
      "cell_type": "code",
      "metadata": {
        "id": "skFNRKS7KP8x"
      },
      "source": [
        "def plot_confusion_matrix(cm, classes,\n",
        "                          normalize=False,\n",
        "                          title='Confusion matrix',\n",
        "                          cmap=plt.cm.Blues):\n",
        "    \"\"\"\n",
        "    This function prints and plots the confusion matrix.\n",
        "    Normalization can be applied by setting `normalize=True`.\n",
        "    \"\"\"\n",
        "    plt.imshow(cm, interpolation='nearest', cmap=cmap)\n",
        "    plt.title(title)\n",
        "    plt.colorbar()\n",
        "    tick_marks = np.arange(len(classes))\n",
        "    plt.xticks(tick_marks, classes, rotation=45)\n",
        "    plt.yticks(tick_marks, classes)\n",
        "\n",
        "    if normalize:\n",
        "        cm = cm.astype('float') / cm.sum(axis=1)[:, np.newaxis]\n",
        "\n",
        "    thresh = cm.max() / 2.\n",
        "    for i, j in itertools.product(range(cm.shape[0]), range(cm.shape[1])):\n",
        "        plt.text(j, i, cm[i, j],\n",
        "                 horizontalalignment=\"center\",\n",
        "                 color=\"white\" if cm[i, j] > thresh else \"black\")\n",
        "\n",
        "    plt.tight_layout()\n",
        "    plt.ylabel('Observación')\n",
        "    plt.xlabel('Predicción')\n",
        "\n",
        "\n",
        "# Predict the values from the validation dataset\n",
        "Y_pred = network.predict(test_images)\n",
        "# Convert predictions classes to one hot vectors \n",
        "Y_pred_classes = np.argmax(Y_pred, axis = 1) \n",
        "# Convert validation observations to one hot vectors\n",
        "Y_true = np.argmax(test_labelsp, axis = 1) \n",
        "# compute the confusion matrix\n",
        "confusion_mtx = confusion_matrix(Y_true, Y_pred_classes) \n",
        "# plot the confusion matrix\n",
        "plot_confusion_matrix(confusion_mtx, classes = range(10))"
      ],
      "execution_count": null,
      "outputs": []
    },
    {
      "cell_type": "markdown",
      "metadata": {
        "id": "IF3UAkdyLAAn"
      },
      "source": [
        "CASO 4"
      ]
    },
    {
      "cell_type": "markdown",
      "metadata": {
        "id": "vt7LAUQuLBJi"
      },
      "source": [
        "Creamos dos capas \"Dense\" (Neurona 1 y Neurona 2), capas neuronales densamente conectadas. La capa de salida \"Softmax\" devolverá una matriz de 10 puntuaciones de probabilidad, esta puntuación será la probabilidad de que la imagen del dígito actual pertenezca a una de nuestras clases de 10 dígitos."
      ]
    },
    {
      "cell_type": "code",
      "metadata": {
        "id": "-ktWN0NO7Wxr"
      },
      "source": [
        "network.add(layers.Dense(10, activation = 'sigmoid',input_shape = (28*28,)))\n",
        "network.add(layers.Dense(10, activation = 'softmax'))\n",
        "network.summary()"
      ],
      "execution_count": null,
      "outputs": []
    },
    {
      "cell_type": "code",
      "metadata": {
        "id": "9KFg54tU8aF5"
      },
      "source": [
        "network.compile(optimizer = 'rmsprop',\n",
        "                loss = 'binary_crossentropy',\n",
        "                metrics = ['accuracy'])"
      ],
      "execution_count": null,
      "outputs": []
    },
    {
      "cell_type": "code",
      "metadata": {
        "colab": {
          "base_uri": "https://localhost:8080/"
        },
        "id": "pmD4GacJBM1m",
        "outputId": "938379c8-5cd0-4576-8ad8-02dadd0a12f5"
      },
      "source": [
        "network.fit(train_images, train_labels, epochs = 5, batch_size = 128)"
      ],
      "execution_count": null,
      "outputs": [
        {
          "output_type": "stream",
          "name": "stdout",
          "text": [
            "Epoch 1/5\n",
            "469/469 [==============================] - 2s 2ms/step - loss: 0.4135 - accuracy: 0.1097\n",
            "Epoch 2/5\n",
            "469/469 [==============================] - 1s 2ms/step - loss: 0.3171 - accuracy: 0.1858\n",
            "Epoch 3/5\n",
            "469/469 [==============================] - 1s 2ms/step - loss: 0.2941 - accuracy: 0.2157\n",
            "Epoch 4/5\n",
            "469/469 [==============================] - 1s 2ms/step - loss: 0.2679 - accuracy: 0.2579\n",
            "Epoch 5/5\n",
            "469/469 [==============================] - 1s 2ms/step - loss: 0.2520 - accuracy: 0.2883\n"
          ]
        },
        {
          "output_type": "execute_result",
          "data": {
            "text/plain": [
              "<keras.callbacks.History at 0x7f1cc198c690>"
            ]
          },
          "metadata": {},
          "execution_count": 96
        }
      ]
    },
    {
      "cell_type": "code",
      "metadata": {
        "colab": {
          "base_uri": "https://localhost:8080/"
        },
        "id": "2dx8eoH-BY2f",
        "outputId": "8fe1a810-702b-4e06-f190-070d59830a47"
      },
      "source": [
        "test_loss, test_acc = network.evaluate(test_images, test_labels)"
      ],
      "execution_count": null,
      "outputs": [
        {
          "output_type": "stream",
          "name": "stdout",
          "text": [
            "313/313 [==============================] - 0s 1ms/step - loss: 0.2464 - accuracy: 0.2936\n"
          ]
        }
      ]
    },
    {
      "cell_type": "code",
      "metadata": {
        "colab": {
          "base_uri": "https://localhost:8080/"
        },
        "id": "uDRAVrQwBZW-",
        "outputId": "4ead4476-d45e-466b-c916-7d0d9ea6afe5"
      },
      "source": [
        "print('Nivel de exactitud:', test_acc)"
      ],
      "execution_count": null,
      "outputs": [
        {
          "output_type": "stream",
          "name": "stdout",
          "text": [
            "Nivel de exactitud: 0.2935999929904938\n"
          ]
        }
      ]
    },
    {
      "cell_type": "markdown",
      "metadata": {
        "id": "8w9wdN_cLz62"
      },
      "source": [
        "El nivel de precisión es del 29,35%"
      ]
    },
    {
      "cell_type": "markdown",
      "metadata": {
        "id": "v4xpIDwPL0kf"
      },
      "source": [
        "MATRIZ DE CONFUSIÓN"
      ]
    },
    {
      "cell_type": "code",
      "metadata": {
        "id": "4aU4E8PPKTkR"
      },
      "source": [
        "def plot_confusion_matrix(cm, classes,\n",
        "                          normalize=False,\n",
        "                          title='Confusion matrix',\n",
        "                          cmap=plt.cm.Blues):\n",
        "    \"\"\"\n",
        "    This function prints and plots the confusion matrix.\n",
        "    Normalization can be applied by setting `normalize=True`.\n",
        "    \"\"\"\n",
        "    plt.imshow(cm, interpolation='nearest', cmap=cmap)\n",
        "    plt.title(title)\n",
        "    plt.colorbar()\n",
        "    tick_marks = np.arange(len(classes))\n",
        "    plt.xticks(tick_marks, classes, rotation=45)\n",
        "    plt.yticks(tick_marks, classes)\n",
        "\n",
        "    if normalize:\n",
        "        cm = cm.astype('float') / cm.sum(axis=1)[:, np.newaxis]\n",
        "\n",
        "    thresh = cm.max() / 2.\n",
        "    for i, j in itertools.product(range(cm.shape[0]), range(cm.shape[1])):\n",
        "        plt.text(j, i, cm[i, j],\n",
        "                 horizontalalignment=\"center\",\n",
        "                 color=\"white\" if cm[i, j] > thresh else \"black\")\n",
        "\n",
        "    plt.tight_layout()\n",
        "    plt.ylabel('Observación')\n",
        "    plt.xlabel('Predicción')\n",
        "\n",
        "\n",
        "# Predict the values from the validation dataset\n",
        "Y_pred = network.predict(test_images)\n",
        "# Convert predictions classes to one hot vectors \n",
        "Y_pred_classes = np.argmax(Y_pred, axis = 1) \n",
        "# Convert validation observations to one hot vectors\n",
        "Y_true = np.argmax(test_labelsp, axis = 1) \n",
        "# compute the confusion matrix\n",
        "confusion_mtx = confusion_matrix(Y_true, Y_pred_classes) \n",
        "# plot the confusion matrix\n",
        "plot_confusion_matrix(confusion_mtx, classes = range(10))"
      ],
      "execution_count": null,
      "outputs": []
    },
    {
      "cell_type": "markdown",
      "metadata": {
        "id": "vjwyQmnbLFBr"
      },
      "source": [
        "CASO 5"
      ]
    },
    {
      "cell_type": "markdown",
      "metadata": {
        "id": "4SAt_LOILGKY"
      },
      "source": [
        "Creamos dos capas \"Dense\" (Neurona 1 y Neurona 2), capas neuronales densamente conectadas. La capa de salida \"Softmax\" devolverá una matriz de 10 puntuaciones de probabilidad, esta puntuación será la probabilidad de que la imagen del dígito actual pertenezca a una de nuestras clases de 10 dígitos."
      ]
    },
    {
      "cell_type": "code",
      "metadata": {
        "id": "FvLeZM1w7Yej"
      },
      "source": [
        "network.add(layers.Dense(512, activation = 'relu',input_shape = (28*28,)))\n",
        "network.add(layers.Dense(512, activation = 'softmax'))\n",
        "network.summary()"
      ],
      "execution_count": null,
      "outputs": []
    },
    {
      "cell_type": "code",
      "metadata": {
        "id": "F-57E9_a8btF"
      },
      "source": [
        "network.compile(optimizer = 'sgd',\n",
        "                loss = 'binary_crossentropy',\n",
        "                metrics = ['accuracy'])"
      ],
      "execution_count": null,
      "outputs": []
    },
    {
      "cell_type": "code",
      "metadata": {
        "id": "1OoaHWhaBOL-"
      },
      "source": [
        "network.fit(train_images, train_labels, epochs = 5, batch_size = 128)"
      ],
      "execution_count": null,
      "outputs": []
    },
    {
      "cell_type": "code",
      "metadata": {
        "id": "WE63VzfGBZ8z"
      },
      "source": [
        "test_loss, test_acc = network.evaluate(test_images, test_labels)"
      ],
      "execution_count": null,
      "outputs": []
    },
    {
      "cell_type": "code",
      "metadata": {
        "id": "tKKCH7V5BalJ"
      },
      "source": [
        "print('Nivel de exactitud:', test_acc)"
      ],
      "execution_count": null,
      "outputs": []
    },
    {
      "cell_type": "markdown",
      "metadata": {
        "id": "fAqp3FaDLxAQ"
      },
      "source": [
        "El nivel de precisión es del 29,35%"
      ]
    },
    {
      "cell_type": "markdown",
      "metadata": {
        "id": "0pH8bB_TLx8b"
      },
      "source": [
        "MATRIZ DE CONFUSIÓN"
      ]
    },
    {
      "cell_type": "code",
      "metadata": {
        "id": "ToY_fAyLKUrG"
      },
      "source": [
        "def plot_confusion_matrix(cm, classes,\n",
        "                          normalize=False,\n",
        "                          title='Confusion matrix',\n",
        "                          cmap=plt.cm.Blues):\n",
        "    \"\"\"\n",
        "    This function prints and plots the confusion matrix.\n",
        "    Normalization can be applied by setting `normalize=True`.\n",
        "    \"\"\"\n",
        "    plt.imshow(cm, interpolation='nearest', cmap=cmap)\n",
        "    plt.title(title)\n",
        "    plt.colorbar()\n",
        "    tick_marks = np.arange(len(classes))\n",
        "    plt.xticks(tick_marks, classes, rotation=45)\n",
        "    plt.yticks(tick_marks, classes)\n",
        "\n",
        "    if normalize:\n",
        "        cm = cm.astype('float') / cm.sum(axis=1)[:, np.newaxis]\n",
        "\n",
        "    thresh = cm.max() / 2.\n",
        "    for i, j in itertools.product(range(cm.shape[0]), range(cm.shape[1])):\n",
        "        plt.text(j, i, cm[i, j],\n",
        "                 horizontalalignment=\"center\",\n",
        "                 color=\"white\" if cm[i, j] > thresh else \"black\")\n",
        "\n",
        "    plt.tight_layout()\n",
        "    plt.ylabel('Observación')\n",
        "    plt.xlabel('Predicción')\n",
        "\n",
        "\n",
        "# Predict the values from the validation dataset\n",
        "Y_pred = network.predict(test_images)\n",
        "# Convert predictions classes to one hot vectors \n",
        "Y_pred_classes = np.argmax(Y_pred, axis = 1) \n",
        "# Convert validation observations to one hot vectors\n",
        "Y_true = np.argmax(test_labelsp, axis = 1) \n",
        "# compute the confusion matrix\n",
        "confusion_mtx = confusion_matrix(Y_true, Y_pred_classes) \n",
        "# plot the confusion matrix\n",
        "plot_confusion_matrix(confusion_mtx, classes = range(10))"
      ],
      "execution_count": null,
      "outputs": []
    },
    {
      "cell_type": "markdown",
      "metadata": {
        "id": "lo4xX8ItLIdL"
      },
      "source": [
        "CASO 6"
      ]
    },
    {
      "cell_type": "markdown",
      "metadata": {
        "id": "56k-kwHCLJeB"
      },
      "source": [
        "Creamos dos capas \"Dense\" (Neurona 1 y Neurona 2), capas neuronales densamente conectadas. La capa de salida \"Softmax\" devolverá una matriz de 10 puntuaciones de probabilidad, esta puntuación será la probabilidad de que la imagen del dígito actual pertenezca a una de nuestras clases de 10 dígitos."
      ]
    },
    {
      "cell_type": "code",
      "metadata": {
        "id": "wS396zWV7Z9V"
      },
      "source": [
        "network.add(layers.Dense(512, activation = 'relu',input_shape = (28*28,)))\n",
        "network.add(layers.Dense(512, activation = 'softmax'))\n",
        "network.summary()"
      ],
      "execution_count": null,
      "outputs": []
    },
    {
      "cell_type": "code",
      "metadata": {
        "id": "SRBfssRR8cLZ"
      },
      "source": [
        "network.compile(optimizer = 'rmsprop',\n",
        "                loss = 'binary_crossentropy',\n",
        "                metrics = ['accuracy'])"
      ],
      "execution_count": null,
      "outputs": []
    },
    {
      "cell_type": "code",
      "metadata": {
        "id": "eaRRl-JDBO4Y"
      },
      "source": [
        "network.fit(train_images, train_labels, epochs = 5, batch_size = 128)"
      ],
      "execution_count": null,
      "outputs": []
    },
    {
      "cell_type": "code",
      "metadata": {
        "id": "WnTB9zSJBcJ0"
      },
      "source": [
        "test_loss, test_acc = network.evaluate(test_images, test_labels)"
      ],
      "execution_count": null,
      "outputs": []
    },
    {
      "cell_type": "code",
      "metadata": {
        "id": "xNqsAlLhBcoB"
      },
      "source": [
        "print('Nivel de exactitud:', test_acc)"
      ],
      "execution_count": null,
      "outputs": []
    },
    {
      "cell_type": "markdown",
      "metadata": {
        "id": "SCtcM7t6LoVp"
      },
      "source": [
        "El nivel de precisión es del 29,35%"
      ]
    },
    {
      "cell_type": "markdown",
      "metadata": {
        "id": "v9HFGQD8LoJk"
      },
      "source": [
        "MATRIZ DE CONFUSIÓN"
      ]
    },
    {
      "cell_type": "code",
      "metadata": {
        "id": "LKWw0YIdKVm9"
      },
      "source": [
        "def plot_confusion_matrix(cm, classes,\n",
        "                          normalize=False,\n",
        "                          title='Confusion matrix',\n",
        "                          cmap=plt.cm.Blues):\n",
        "    \"\"\"\n",
        "    This function prints and plots the confusion matrix.\n",
        "    Normalization can be applied by setting `normalize=True`.\n",
        "    \"\"\"\n",
        "    plt.imshow(cm, interpolation='nearest', cmap=cmap)\n",
        "    plt.title(title)\n",
        "    plt.colorbar()\n",
        "    tick_marks = np.arange(len(classes))\n",
        "    plt.xticks(tick_marks, classes, rotation=45)\n",
        "    plt.yticks(tick_marks, classes)\n",
        "\n",
        "    if normalize:\n",
        "        cm = cm.astype('float') / cm.sum(axis=1)[:, np.newaxis]\n",
        "\n",
        "    thresh = cm.max() / 2.\n",
        "    for i, j in itertools.product(range(cm.shape[0]), range(cm.shape[1])):\n",
        "        plt.text(j, i, cm[i, j],\n",
        "                 horizontalalignment=\"center\",\n",
        "                 color=\"white\" if cm[i, j] > thresh else \"black\")\n",
        "\n",
        "    plt.tight_layout()\n",
        "    plt.ylabel('Observación')\n",
        "    plt.xlabel('Predicción')\n",
        "\n",
        "\n",
        "# Predict the values from the validation dataset\n",
        "Y_pred = network.predict(test_images)\n",
        "# Convert predictions classes to one hot vectors \n",
        "Y_pred_classes = np.argmax(Y_pred, axis = 1) \n",
        "# Convert validation observations to one hot vectors\n",
        "Y_true = np.argmax(test_labelsp, axis = 1) \n",
        "# compute the confusion matrix\n",
        "confusion_mtx = confusion_matrix(Y_true, Y_pred_classes) \n",
        "# plot the confusion matrix\n",
        "plot_confusion_matrix(confusion_mtx, classes = range(10))"
      ],
      "execution_count": null,
      "outputs": []
    },
    {
      "cell_type": "markdown",
      "metadata": {
        "id": "ttjfB0WSLl1q"
      },
      "source": [
        "CASO 7"
      ]
    },
    {
      "cell_type": "markdown",
      "metadata": {
        "id": "qndC2Fs6LO9S"
      },
      "source": [
        "Creamos dos capas \"Dense\" (Neurona 1 y Neurona 2), capas neuronales densamente conectadas. La capa de salida \"Softmax\" devolverá una matriz de 10 puntuaciones de probabilidad, esta puntuación será la probabilidad de que la imagen del dígito actual pertenezca a una de nuestras clases de 10 dígitos."
      ]
    },
    {
      "cell_type": "code",
      "metadata": {
        "id": "svnJwE9w7bYm"
      },
      "source": [
        "network.add(layers.Dense(512, activation = 'sigmoid',input_shape = (28*28,)))\n",
        "network.add(layers.Dense(512, activation = 'softmax'))\n",
        "network.summary()"
      ],
      "execution_count": null,
      "outputs": []
    },
    {
      "cell_type": "code",
      "metadata": {
        "id": "vdhlJjfr8pRd"
      },
      "source": [
        "network.compile(optimizer = 'sgd',\n",
        "                loss = 'binary_crossentropy',\n",
        "                metrics = ['accuracy'])"
      ],
      "execution_count": null,
      "outputs": []
    },
    {
      "cell_type": "code",
      "metadata": {
        "id": "ehrXEek-BQEH"
      },
      "source": [
        "network.fit(train_images, train_labels, epochs = 5, batch_size = 128)"
      ],
      "execution_count": null,
      "outputs": []
    },
    {
      "cell_type": "code",
      "metadata": {
        "id": "VZfe7kSnBdxN"
      },
      "source": [
        "test_loss, test_acc = network.evaluate(test_images, test_labels)"
      ],
      "execution_count": null,
      "outputs": []
    },
    {
      "cell_type": "code",
      "metadata": {
        "colab": {
          "base_uri": "https://localhost:8080/"
        },
        "id": "Uz6a6c8iBeU5",
        "outputId": "d3ba6e54-d7b2-4261-84e1-524a56568c42"
      },
      "source": [
        "print('Nivel de exactitud:', test_acc)"
      ],
      "execution_count": null,
      "outputs": [
        {
          "output_type": "stream",
          "name": "stdout",
          "text": [
            "Nivel de exactitud: 0.2935999929904938\n"
          ]
        }
      ]
    },
    {
      "cell_type": "markdown",
      "metadata": {
        "id": "ngdtC3z3LZNM"
      },
      "source": [
        "El nivel de precisión es del 29,35%"
      ]
    },
    {
      "cell_type": "markdown",
      "metadata": {
        "id": "uiqW73Q6LY4n"
      },
      "source": [
        "MATRIZ DE CONFUSIÓN\n"
      ]
    },
    {
      "cell_type": "code",
      "metadata": {
        "id": "bHPOW5wCKXDm"
      },
      "source": [
        "def plot_confusion_matrix(cm, classes,\n",
        "                          normalize=False,\n",
        "                          title='Confusion matrix',\n",
        "                          cmap=plt.cm.Blues):\n",
        "    \"\"\"\n",
        "    This function prints and plots the confusion matrix.\n",
        "    Normalization can be applied by setting `normalize=True`.\n",
        "    \"\"\"\n",
        "    plt.imshow(cm, interpolation='nearest', cmap=cmap)\n",
        "    plt.title(title)\n",
        "    plt.colorbar()\n",
        "    tick_marks = np.arange(len(classes))\n",
        "    plt.xticks(tick_marks, classes, rotation=45)\n",
        "    plt.yticks(tick_marks, classes)\n",
        "\n",
        "    if normalize:\n",
        "        cm = cm.astype('float') / cm.sum(axis=1)[:, np.newaxis]\n",
        "\n",
        "    thresh = cm.max() / 2.\n",
        "    for i, j in itertools.product(range(cm.shape[0]), range(cm.shape[1])):\n",
        "        plt.text(j, i, cm[i, j],\n",
        "                 horizontalalignment=\"center\",\n",
        "                 color=\"white\" if cm[i, j] > thresh else \"black\")\n",
        "\n",
        "    plt.tight_layout()\n",
        "    plt.ylabel('Observación')\n",
        "    plt.xlabel('Predicción')\n",
        "\n",
        "\n",
        "# Predict the values from the validation dataset\n",
        "Y_pred = network.predict(test_images)\n",
        "# Convert predictions classes to one hot vectors \n",
        "Y_pred_classes = np.argmax(Y_pred, axis = 1) \n",
        "# Convert validation observations to one hot vectors\n",
        "Y_true = np.argmax(test_labelsp, axis = 1) \n",
        "# compute the confusion matrix\n",
        "confusion_mtx = confusion_matrix(Y_true, Y_pred_classes) \n",
        "# plot the confusion matrix\n",
        "plot_confusion_matrix(confusion_mtx, classes = range(10))"
      ],
      "execution_count": null,
      "outputs": []
    },
    {
      "cell_type": "markdown",
      "metadata": {
        "id": "ofjGwjR7LRIQ"
      },
      "source": [
        "CASO 8"
      ]
    },
    {
      "cell_type": "markdown",
      "metadata": {
        "id": "_QY0gGviLSBM"
      },
      "source": [
        "Creamos dos capas \"Dense\" (Neurona 1 y Neurona 2), capas neuronales densamente conectadas. La capa de salida \"Softmax\" devolverá una matriz de 10 puntuaciones de probabilidad, esta puntuación será la probabilidad de que la imagen del dígito actual pertenezca a una de nuestras clases de 10 dígitos."
      ]
    },
    {
      "cell_type": "code",
      "metadata": {
        "id": "zUm8GhAV7c9f"
      },
      "source": [
        "network.add(layers.Dense(512, activation = 'sigmoid',input_shape = (28*28,)))\n",
        "network.add(layers.Dense(512, activation = 'softmax'))\n",
        "network.summary()"
      ],
      "execution_count": null,
      "outputs": []
    },
    {
      "cell_type": "code",
      "metadata": {
        "id": "Ktc0k1eX8v5a"
      },
      "source": [
        "network.compile(optimizer = 'rmsprop',\n",
        "                loss = 'binary_crossentropy',\n",
        "                metrics = ['accuracy'])"
      ],
      "execution_count": null,
      "outputs": []
    },
    {
      "cell_type": "code",
      "metadata": {
        "id": "D3Lbik5-BRRU"
      },
      "source": [
        "network.fit(train_images, train_labels, epochs = 5, batch_size = 128)"
      ],
      "execution_count": null,
      "outputs": []
    },
    {
      "cell_type": "code",
      "metadata": {
        "id": "QVjWw5XhBfWJ"
      },
      "source": [
        "test_loss, test_acc = network.evaluate(test_images, test_labels)"
      ],
      "execution_count": null,
      "outputs": []
    },
    {
      "cell_type": "code",
      "metadata": {
        "colab": {
          "base_uri": "https://localhost:8080/"
        },
        "id": "cJ8jWwmmBf9W",
        "outputId": "3a73da7c-7117-4810-c56d-3996d4bb70dc"
      },
      "source": [
        "print('Nivel de exactitud:', test_acc)"
      ],
      "execution_count": null,
      "outputs": [
        {
          "output_type": "stream",
          "name": "stdout",
          "text": [
            "Nivel de exactitud: 0.2935999929904938\n"
          ]
        }
      ]
    },
    {
      "cell_type": "markdown",
      "metadata": {
        "id": "qfAXtHSeKdcs"
      },
      "source": [
        "El nivel de precisión es del 29,35%"
      ]
    },
    {
      "cell_type": "markdown",
      "metadata": {
        "id": "fVxbLRUwKbHN"
      },
      "source": [
        "MATRIZ DE CONFUSIÓN"
      ]
    },
    {
      "cell_type": "code",
      "metadata": {
        "id": "No4lj3fbKZvt"
      },
      "source": [
        "def plot_confusion_matrix(cm, classes,\n",
        "                          normalize=False,\n",
        "                          title='Confusion matrix',\n",
        "                          cmap=plt.cm.Blues):\n",
        "    \"\"\"\n",
        "    This function prints and plots the confusion matrix.\n",
        "    Normalization can be applied by setting `normalize=True`.\n",
        "    \"\"\"\n",
        "    plt.imshow(cm, interpolation='nearest', cmap=cmap)\n",
        "    plt.title(title)\n",
        "    plt.colorbar()\n",
        "    tick_marks = np.arange(len(classes))\n",
        "    plt.xticks(tick_marks, classes, rotation=45)\n",
        "    plt.yticks(tick_marks, classes)\n",
        "\n",
        "    if normalize:\n",
        "        cm = cm.astype('float') / cm.sum(axis=1)[:, np.newaxis]\n",
        "\n",
        "    thresh = cm.max() / 2.\n",
        "    for i, j in itertools.product(range(cm.shape[0]), range(cm.shape[1])):\n",
        "        plt.text(j, i, cm[i, j],\n",
        "                 horizontalalignment=\"center\",\n",
        "                 color=\"white\" if cm[i, j] > thresh else \"black\")\n",
        "\n",
        "    plt.tight_layout()\n",
        "    plt.ylabel('Observación')\n",
        "    plt.xlabel('Predicción')\n",
        "\n",
        "\n",
        "# Predict the values from the validation dataset\n",
        "Y_pred = network.predict(test_images)\n",
        "# Convert predictions classes to one hot vectors \n",
        "Y_pred_classes = np.argmax(Y_pred, axis = 1) \n",
        "# Convert validation observations to one hot vectors\n",
        "Y_true = np.argmax(test_labelsp, axis = 1) \n",
        "# compute the confusion matrix\n",
        "confusion_mtx = confusion_matrix(Y_true, Y_pred_classes) \n",
        "# plot the confusion matrix\n",
        "plot_confusion_matrix(confusion_mtx, classes = range(10))"
      ],
      "execution_count": null,
      "outputs": []
    },
    {
      "cell_type": "markdown",
      "metadata": {
        "id": "ASsTHcS7cI0H"
      },
      "source": [
        "Todavía no hemos acabado con nuestra red de neuronas. Debemos elegir 3 cosas más:\n",
        "1. Optimizador: Mecanismo por el cual la red se actualiza en función de los datos que ve y su función de pérdida.\n",
        "2. Función de pérdida: La red podrá medir cómo de bien está haciendo el trabajo con los datos de entrenamiento, y en consecuencia, podrá dirigirse en la dirección correcta.\n",
        "3. Métricas: Se usan para monotorizar durante el entrenamiento y las pruebas. En este caso sólo nos preocuparemos por la precisión (accuracy)."
      ]
    },
    {
      "cell_type": "markdown",
      "metadata": {
        "id": "gVolgGhFc-hi"
      },
      "source": [
        "El siguiente paso que hacemos es almacenar nuestras imágenes en una matriz de forma \"float32\" con valores entre 0 y 1. "
      ]
    },
    {
      "cell_type": "code",
      "metadata": {
        "id": "tl_D2BuiORqm"
      },
      "source": [
        "train_images = train_images.reshape((60000, 28*28))\n",
        "train_images = train_images.astype('float32') / 255\n",
        "test_images = test_images.reshape((10000, 28*28))\n",
        "test_images = test_images.astype('float32') / 255"
      ],
      "execution_count": null,
      "outputs": []
    },
    {
      "cell_type": "markdown",
      "metadata": {
        "id": "B92x-D-DeJ1b"
      },
      "source": [
        "Una vez listos para entrenar la red, lo hacemos con Keras a través del método Fit que se ajusta a los datos de entrenamiento."
      ]
    },
    {
      "cell_type": "code",
      "metadata": {
        "id": "TWeNL29gPY5Z"
      },
      "source": [
        "network.fit(train_images, train_labels, epochs = 5, batch_size = 128)"
      ],
      "execution_count": null,
      "outputs": []
    },
    {
      "cell_type": "markdown",
      "metadata": {
        "id": "M_ePTIOiecN4"
      },
      "source": [
        "Como podemos ver, se nos muestran dos resultados: \n",
        "LOSS (Pérdida) y ACCURACY (Precisión)"
      ]
    },
    {
      "cell_type": "code",
      "metadata": {
        "id": "OXOtiNENPkaR"
      },
      "source": [
        "test_loss, test_acc = network.evaluate(test_images, test_labels)"
      ],
      "execution_count": null,
      "outputs": []
    },
    {
      "cell_type": "markdown",
      "metadata": {
        "id": "gv-ScXAegkB6"
      },
      "source": [
        "\n",
        "Verificación de nuestro modelo contra al conjunto de pruebas\n",
        "\n",
        "\n"
      ]
    },
    {
      "cell_type": "code",
      "metadata": {
        "colab": {
          "base_uri": "https://localhost:8080/"
        },
        "id": "345om3ywPyZQ",
        "outputId": "8a56dc26-9454-432a-ede7-f7db0a08695a"
      },
      "source": [
        "print('Nivel de exactitud:', test_acc)"
      ],
      "execution_count": null,
      "outputs": [
        {
          "output_type": "stream",
          "name": "stdout",
          "text": [
            "Nivel de exactitud: 0.1039000004529953\n"
          ]
        }
      ]
    },
    {
      "cell_type": "code",
      "metadata": {
        "id": "YCWATS5khi2w"
      },
      "source": [
        "def plot_image(i, predictions_array, true_label, img):\n",
        "  predictions_array, true_label, img = predictions_array, true_label[i], img[i]\n",
        "  plt.grid(False)\n",
        "  plt.xticks([])\n",
        "  plt.yticks([])\n",
        "\n",
        "  plt.imshow(img, cmap = plt.cm.binary)\n",
        "\n",
        "  predicted_label = np.argmax(predictions_array)\n",
        "  if predicted_label == true_label:\n",
        "    color = 'blue'\n",
        "  else:\n",
        "    color = 'red'\n",
        "\n",
        "  plt.xlabel(\"{} {:2.0f}% ({})\".format(class_names[predicted_label],\n",
        "                                 100*np.max(predictions_array),\n",
        "                                 class_names[true_label]),\n",
        "                                 color = color)\n",
        "  \n",
        "def plot_value_array(i, predictions_array, true_label):\n",
        "  predictions_array, true_label = predictions_array, true_label[i]\n",
        "  plt.grid(False)\n",
        "  plt.xticks(range(10))\n",
        "  plt.yticks([])\n",
        "  thisplot = plt.bar(range(10), predictions_array, color = \"#777777\")\n",
        "  plt.ylim([0, 1])\n",
        "  predicted_label = np.argmax(predictions_array)\n",
        "\n",
        "  thisplot[predicted_label].set_color('red')\n",
        "  thisplot[true_label].set_color('blue')"
      ],
      "execution_count": null,
      "outputs": []
    },
    {
      "cell_type": "markdown",
      "metadata": {
        "id": "MKP-DTYiAz_h"
      },
      "source": [
        "APARTADO 5"
      ]
    },
    {
      "cell_type": "code",
      "metadata": {
        "id": "54CLIyWWn1Ii"
      },
      "source": [
        "i = 0\n",
        "plt.figure(figsize = (6, 3))\n",
        "plt.subplot(1, 2, 1)\n",
        "plot_image(i, predictions[i], test_labels, test_images.reshape(10000, 28, 28))\n",
        "plt.subplot(1, 2, 2)\n",
        "plot_value_array(i, predictions[i], test_labels)\n",
        "plt.show()"
      ],
      "execution_count": null,
      "outputs": []
    }
  ]
}